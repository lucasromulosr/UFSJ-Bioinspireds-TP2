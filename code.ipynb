{
  "nbformat": 4,
  "nbformat_minor": 0,
  "metadata": {
    "colab": {
      "name": "tp2-bioinspirados.ipynb",
      "provenance": [],
      "collapsed_sections": [
        "OA6KQpamgXkm",
        "Su-6TexM3xEz",
        "QoaniUzE30PS"
      ],
      "include_colab_link": true
    },
    "kernelspec": {
      "name": "python3",
      "display_name": "Python 3"
    },
    "language_info": {
      "name": "python"
    }
  },
  "cells": [
    {
      "cell_type": "markdown",
      "metadata": {
        "id": "view-in-github",
        "colab_type": "text"
      },
      "source": [
        "<a href=\"https://colab.research.google.com/github/srlucasromulo/tp2-bioinspired/blob/main/code.ipynb\" target=\"_parent\"><img src=\"https://colab.research.google.com/assets/colab-badge.svg\" alt=\"Open In Colab\"/></a>"
      ]
    },
    {
      "cell_type": "code",
      "source": [
        "!pip -q install numpy\n",
        "!pip -q install pandas\n",
        "from typing import List\n",
        "import numpy as np\n",
        "import pandas as pd\n",
        "import copy"
      ],
      "metadata": {
        "id": "wew4AbJYpKRQ"
      },
      "execution_count": 2,
      "outputs": []
    },
    {
      "cell_type": "markdown",
      "source": [
        "#Load weighted directed graph"
      ],
      "metadata": {
        "id": "OA6KQpamgXkm"
      }
    },
    {
      "cell_type": "code",
      "source": [
        "file_edges = pd.read_csv('https://raw.githubusercontent.com/srlucasromulo/tp2-bioinspired/main/edges', sep=';')\n",
        "file_vertex = pd.read_csv('https://raw.githubusercontent.com/srlucasromulo/tp2-bioinspired/main/vertex', sep=';')\n",
        "\n",
        "vertex = list(file_vertex['name'])  # list of vertex\n",
        "edges = {v:{} for v in vertex}      # list of edges and its weights (distances)\n",
        "\n",
        "# reads the edges from file\n",
        "for edge in file_edges.iloc:\n",
        "    vertex0 = edge['vertex0']\n",
        "    vertex1 = edge['vertex1']\n",
        "    distance = edge['distance']\n",
        "    edges[vertex0][vertex1] = distance"
      ],
      "metadata": {
        "id": "c1xUP2bRAo47"
      },
      "execution_count": 232,
      "outputs": []
    },
    {
      "cell_type": "markdown",
      "source": [
        "#Set parameters"
      ],
      "metadata": {
        "id": "inGyAYgaguh-"
      }
    },
    {
      "cell_type": "code",
      "source": [
        "# the distance of a path\n",
        "def objective_function(path):\n",
        "    return sum([edges[path[i]][path[i + 1]] for i in range(len(path) - 1)])\n",
        "\n",
        "n = 5               # population size\n",
        "n_gen = 100         # n generations\n",
        "stop_criteria = 10  # stop after n_gen w/o improvement\n",
        "\n",
        "alpha = 8\n",
        "beta = 5\n",
        "ro = 0.5\n",
        "Q = 5000\n",
        "\n",
        "starvation_death = 50\n",
        "\n",
        "objective_path = ['CTAN', 'CDB', 'CSA', 'CDB', 'CTAN']"
      ],
      "metadata": {
        "id": "qS7J0IWpgRoh"
      },
      "execution_count": 233,
      "outputs": []
    },
    {
      "cell_type": "markdown",
      "source": [
        "#Ant and Colony classes"
      ],
      "metadata": {
        "id": "C7729tH5hb2Q"
      }
    },
    {
      "cell_type": "markdown",
      "source": [
        "##Ant"
      ],
      "metadata": {
        "id": "Su-6TexM3xEz"
      }
    },
    {
      "cell_type": "code",
      "execution_count": 234,
      "metadata": {
        "id": "Aub0XCoVrG_E"
      },
      "outputs": [],
      "source": [
        "def select_next_vertex(current, target, possibilities):\n",
        "    if target in possibilities:\n",
        "        return target\n",
        "\n",
        "    def random_choice(possibilities):\n",
        "        count = np.array([possibilities[key] for key in possibilities.keys()])\n",
        "        count = 1 / count\n",
        "        return np.random.choice(list(possibilities.keys()), p=count/sum(count))\n",
        "\n",
        "    def pheromone_choice(possibilities):\n",
        "        max_value = max([possibilities[key] for key in possibilities.keys()])\n",
        "        vertex = []\n",
        "        for key in possibilities.keys():\n",
        "            if possibilities[key] == max_value:\n",
        "                vertex.append(key)\n",
        "        return np.random.choice(vertex)\n",
        "        \n",
        "    choice_method = \\\n",
        "        np.random.choice([pheromone_choice, random_choice], p=[alpha/(alpha+beta), beta/(alpha+beta)])\n",
        "    return choice_method(possibilities)\n",
        "\n",
        "\n",
        "class Ant:\n",
        "\n",
        "    def __init__(self, vertex):\n",
        "        self.fitness = np.inf\n",
        "        self.vertex = vertex\n",
        "        self.path = [vertex]\n",
        "        self.starved = False\n",
        "\n",
        "    def __str__(self):\n",
        "        return f'{self.fitness}, {self.path}'\n",
        "\n",
        "    def fitness_evaluate(self):\n",
        "        self.fitness = objective_function(self.path)\n",
        "\n",
        "    def deposit_pheromone(self, pheromone, factor):\n",
        "        for i in range(len(self.path) - 1):\n",
        "            pheromone[self.path[i]][self.path[i + 1]] += factor\n",
        "\n",
        "    def generate_path(self, pheromone, alpha, beta):\n",
        "        for target in objective_path[1:]:\n",
        "            starvation = 0\n",
        "\n",
        "            partial_path = [self.vertex]\n",
        "            while self.vertex != target and not self.starved:\n",
        "                possibilities = edges[self.vertex]\n",
        "\n",
        "                next = select_next_vertex(self.vertex, target, possibilities)\n",
        "\n",
        "                if next in partial_path:\n",
        "                    index = partial_path.index(next)\n",
        "                    partial_path = partial_path[:index]\n",
        "\n",
        "                if next != target:\n",
        "                    starvation = len(partial_path) + 1\n",
        "                    if starvation == starvation_death:\n",
        "                        self.starved = True\n",
        "                \n",
        "                self.vertex = next\n",
        "                partial_path.append(next)\n",
        "\n",
        "            if self.starved:\n",
        "                break\n",
        "\n",
        "            self.path += partial_path[1:]"
      ]
    },
    {
      "cell_type": "markdown",
      "source": [
        "##Colony"
      ],
      "metadata": {
        "id": "QoaniUzE30PS"
      }
    },
    {
      "cell_type": "code",
      "source": [
        "def initialize_pheromone():\n",
        "    pheromone = {v:{} for v in vertex}\n",
        "    for vertex0 in edges.keys():\n",
        "        for vertex1 in edges[vertex0].keys():\n",
        "            pheromone[vertex0][vertex1] = 10e-16\n",
        "    return pheromone\n",
        "\n",
        "\n",
        "def evaporate_all_edges_pheromone(pheromone):\n",
        "    for vertex0 in edges.keys():\n",
        "        for vertex1 in edges[vertex0].keys():\n",
        "            pheromone[vertex0][vertex1] *= (1 - ro)\n",
        "\n",
        "\n",
        "class Colony:\n",
        "\n",
        "    def __init__(self):\n",
        "        self.alpha = alpha\n",
        "        self.beta = beta\n",
        "        self.ants = []\n",
        "        self.pheromone = initialize_pheromone()\n",
        "\n",
        "    def __str__(self):\n",
        "        string = ''\n",
        "        for ant in self.ants:\n",
        "            string += str(ant) + '\\n'\n",
        "        return string\n",
        "\n",
        "    def initialize_ants(self):\n",
        "        self.ants = [Ant(objective_path[0]) for _ in range(n)]\n",
        "\n",
        "    def evaluate_ants(self):\n",
        "        live_ants = [ant for ant in self.ants if not ant.starved]\n",
        "        self.ants = live_ants\n",
        "        for ant in self.ants:\n",
        "            ant.fitness_evaluate()\n",
        "\n",
        "    def generate_paths(self):\n",
        "        for ant in self.ants:\n",
        "            ant.generate_path(self.pheromone, self.alpha, self.beta)\n",
        "\n",
        "    def update_pheromone(self):\n",
        "        evaporate_all_edges_pheromone(self.pheromone)\n",
        "\n",
        "        sorted(self.ants, key=lambda x: x.fitness)\n",
        "        \n",
        "        live_ants = len(self.ants)\n",
        "        for i in range(live_ants):\n",
        "            factor = (live_ants - i) * Q / self.ants[i].fitness\n",
        "            self.ants[i].deposit_pheromone(self.pheromone, factor)\n",
        "\n",
        "    def best_ant(self):\n",
        "        if len(self.ants) == 0:\n",
        "            return None\n",
        "\n",
        "        index = np.argmin([ant.fitness for ant in self.ants])\n",
        "        best = self.ants[index]\n",
        "        return copy.deepcopy(best)"
      ],
      "metadata": {
        "id": "h1HwPuELrOw0"
      },
      "execution_count": 235,
      "outputs": []
    },
    {
      "cell_type": "markdown",
      "source": [
        "#ACO algorithm"
      ],
      "metadata": {
        "id": "v1vPbJzShjmV"
      }
    },
    {
      "cell_type": "code",
      "source": [
        "def aco():\n",
        "    colony = Colony()\n",
        "\n",
        "    global_best = Ant(0)\n",
        "\n",
        "    stop = 0\n",
        "    for _ in range(n_gen):\n",
        "        colony.initialize_ants()\n",
        "        colony.generate_paths()\n",
        "        colony.evaluate_ants()\n",
        "        colony.update_pheromone()\n",
        "\n",
        "        best = colony.best_ant()\n",
        "        if best.fitness < global_best.fitness:\n",
        "            global_best = copy.deepcopy(best)\n",
        "            stop = 0\n",
        "\n",
        "        if stop == stop_criteria:\n",
        "            break\n",
        "        else:\n",
        "            stop += 1\n",
        "\n",
        "    return global_best"
      ],
      "metadata": {
        "id": "m5pgMFe03fmQ"
      },
      "execution_count": 236,
      "outputs": []
    },
    {
      "cell_type": "markdown",
      "source": [
        "#Exec script"
      ],
      "metadata": {
        "id": "0DJ49RtSgmtu"
      }
    },
    {
      "cell_type": "code",
      "source": [
        "data = []\n",
        "\n",
        "global_best = Ant(0)\n",
        "\n",
        "for alpha in [1, 2]:\n",
        "    for beta in [1, 2]:\n",
        "        for ro in [.3, .5, .7]:\n",
        "\n",
        "            execs = []\n",
        "            params_best = Ant(0)\n",
        "            for c in range(5):\n",
        "                print(alpha,beta,ro,c)\n",
        "\n",
        "                best = aco()\n",
        "\n",
        "                execs.append(best.fitness)\n",
        "\n",
        "                if best.fitness < params_best.fitness:\n",
        "                    params_best = copy.deepcopy(best)\n",
        "\n",
        "                if best.fitness < global_best.fitness:\n",
        "                    global_best = copy.deepcopy(best)\n",
        "                \n",
        "            new_entry = {\n",
        "                'alpha': alpha,\n",
        "                'beta': beta,\n",
        "                'ro': ro,\n",
        "                'fitness': params_best.fitness,\n",
        "                'deviation': np.std(execs)\n",
        "            }\n",
        "            data.append(new_entry)\n",
        "\n",
        "df = pd.DataFrame(data)\n",
        "df.to_csv('execs')\n",
        "\n",
        "with open('output', 'w') as file:\n",
        "    file.write(str(global_best.fitness) + '\\n')\n",
        "    for vertex in global_best.path:\n",
        "        file.write(vertex + '\\n')"
      ],
      "metadata": {
        "colab": {
          "base_uri": "https://localhost:8080/"
        },
        "id": "z12UiLKUgl3S",
        "outputId": "88dbba0e-fbee-4347-977a-79b86c4a3d3c"
      },
      "execution_count": 238,
      "outputs": [
        {
          "output_type": "stream",
          "name": "stdout",
          "text": [
            "1 1 0.3 0\n",
            "1 1 0.3 1\n",
            "1 1 0.3 2\n",
            "1 1 0.3 3\n",
            "1 1 0.3 4\n",
            "1 1 0.5 0\n",
            "1 1 0.5 1\n",
            "1 1 0.5 2\n",
            "1 1 0.5 3\n",
            "1 1 0.5 4\n",
            "1 1 0.7 0\n",
            "1 1 0.7 1\n",
            "1 1 0.7 2\n",
            "1 1 0.7 3\n",
            "1 1 0.7 4\n",
            "1 2 0.3 0\n",
            "1 2 0.3 1\n",
            "1 2 0.3 2\n",
            "1 2 0.3 3\n",
            "1 2 0.3 4\n",
            "1 2 0.5 0\n",
            "1 2 0.5 1\n",
            "1 2 0.5 2\n",
            "1 2 0.5 3\n",
            "1 2 0.5 4\n",
            "1 2 0.7 0\n",
            "1 2 0.7 1\n",
            "1 2 0.7 2\n",
            "1 2 0.7 3\n",
            "1 2 0.7 4\n",
            "2 1 0.3 0\n",
            "2 1 0.3 1\n",
            "2 1 0.3 2\n",
            "2 1 0.3 3\n",
            "2 1 0.3 4\n",
            "2 1 0.5 0\n",
            "2 1 0.5 1\n",
            "2 1 0.5 2\n",
            "2 1 0.5 3\n",
            "2 1 0.5 4\n",
            "2 1 0.7 0\n",
            "2 1 0.7 1\n",
            "2 1 0.7 2\n",
            "2 1 0.7 3\n",
            "2 1 0.7 4\n",
            "2 2 0.3 0\n",
            "2 2 0.3 1\n",
            "2 2 0.3 2\n",
            "2 2 0.3 3\n",
            "2 2 0.3 4\n",
            "2 2 0.5 0\n",
            "2 2 0.5 1\n",
            "2 2 0.5 2\n",
            "2 2 0.5 3\n",
            "2 2 0.5 4\n",
            "2 2 0.7 0\n",
            "2 2 0.7 1\n",
            "2 2 0.7 2\n",
            "2 2 0.7 3\n",
            "2 2 0.7 4\n"
          ]
        }
      ]
    }
  ]
}